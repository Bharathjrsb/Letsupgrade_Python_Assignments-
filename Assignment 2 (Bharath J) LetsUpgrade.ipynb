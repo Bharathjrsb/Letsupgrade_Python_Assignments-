{
 "cells": [
  {
   "cell_type": "markdown",
   "metadata": {},
   "source": [
    "# Question 1"
   ]
  },
  {
   "cell_type": "markdown",
   "metadata": {},
   "source": [
    "# Use IF ELSE and ELIF to write a program in python for your Report Cards."
   ]
  },
  {
   "cell_type": "code",
   "execution_count": 36,
   "metadata": {},
   "outputs": [
    {
     "ename": "SyntaxError",
     "evalue": "invalid syntax (<ipython-input-36-b9d853adc640>, line 9)",
     "output_type": "error",
     "traceback": [
      "\u001b[1;36m  File \u001b[1;32m\"<ipython-input-36-b9d853adc640>\"\u001b[1;36m, line \u001b[1;32m9\u001b[0m\n\u001b[1;33m    self.__result=\u001b[0m\n\u001b[1;37m                  ^\u001b[0m\n\u001b[1;31mSyntaxError\u001b[0m\u001b[1;31m:\u001b[0m invalid syntax\n"
     ]
    }
   ],
   "source": [
    "class Student:\n",
    "   def __init__(self):\n",
    "       self.__roll=0\n",
    "       self.__name=\"\"\n",
    "       self.__marks=[]\n",
    "       self.__total=0\n",
    "       self.__per=0\n",
    "       self.__grade=\"\"\n",
    "       self.__result=\n",
    "   def setStudent(self):\n",
    "       self.__roll=int(input(\"Enter Roll: \"))\n",
    "       self.__name=input(\"Enter Name: \")\n",
    "       print(\"Enter marks of 5 subjects: \")\n",
    "       for i in range(5):\n",
    "           self.__marks.append(int(input(\"Subject \"+str(i+1)+\": \")))    \n",
    "   def total(self):\n",
    "       for x in self.__marks:\n",
    "           self.__total+=x  \n",
    "   def percentage(self):\n",
    "       self.__per=self._total/5    \n",
    "   def calculateGrade(self):\n",
    "       if self.__per>=85:\n",
    "           self.__grade=\"S\"\n",
    "       elif self.__per>=75:\n",
    "           self.__grade=\"A\"\n",
    "       elif self.__per>=65:\n",
    "           self.__grade=\"B\"\n",
    "       elif self.__per>=55:\n",
    "           self.__grade=\"C\"\n",
    "       elif self.__per>=50:\n",
    "           self.__grade=\"D\"\n",
    "       else:\n",
    "           self.__grade=\"F\"    \n",
    "   def calculateResult(self):\n",
    "       count=0\n",
    "       for x in self.__marks:\n",
    "           if x>=50:\n",
    "               count+=1\n",
    "       if count==5:\n",
    "           self.__result=\"PASS\"\n",
    "       elif count>=3\n",
    "           self.__result=\"COMP.\"\n",
    "       else:6\n",
    "           self.__result=\"FAIL\"    \n",
    "   def showStudent(self):\n",
    "       self.total()\n",
    "       self.percentage()\n",
    "       self.calculateGrade()\n",
    "       self.calculateResult()\n",
    "         print(self.__roll,\"\\t\\t\",self.__name,\"\\t\\t\",self.__total,\"\\t\\t\",self.__per,\"\\t\\t\",self.__grade,\"\\t\\t\",self.__result,'\\t\\t\"')"
   ]
  },
  {
   "cell_type": "markdown",
   "metadata": {},
   "source": [
    "# Question 2"
   ]
  },
  {
   "cell_type": "markdown",
   "metadata": {},
   "source": [
    "# Use For Loop to Print Prime Numbers in between 1 to 1000"
   ]
  },
  {
   "cell_type": "code",
   "execution_count": 22,
   "metadata": {},
   "outputs": [
    {
     "name": "stdout",
     "output_type": "stream",
     "text": [
      " 2   3   5   7   11   13   17   19   23   29   31   37   41   43   47   53   59   61   67   71   73   79   83   89   97  "
     ]
    }
   ],
   "source": [
    "for Number in range (1, 101):\n",
    "    count = 0\n",
    "    for i in range(2, (Number//2 + 1)):\n",
    "        if(Number % i == 0):\n",
    "            count = count + 1\n",
    "            break\n",
    "    if (count == 0 and Number != 1):\n",
    "        print(\" %d\" %Number, end = '  ')"
   ]
  },
  {
   "cell_type": "markdown",
   "metadata": {},
   "source": [
    "# Question 3"
   ]
  },
  {
   "cell_type": "markdown",
   "metadata": {},
   "source": [
    "# Write a program for printing the tables from 1,10 using Nested For Loop"
   ]
  },
  {
   "cell_type": "code",
   "execution_count": 23,
   "metadata": {},
   "outputs": [
    {
     "name": "stdout",
     "output_type": "stream",
     "text": [
      "1\t2\t3\t4\t5\t6\t7\t8\t9\t10\t\n",
      "2\t4\t6\t8\t10\t12\t14\t16\t18\t20\t\n",
      "3\t6\t9\t12\t15\t18\t21\t24\t27\t30\t\n",
      "4\t8\t12\t16\t20\t24\t28\t32\t36\t40\t\n",
      "5\t10\t15\t20\t25\t30\t35\t40\t45\t50\t\n",
      "6\t12\t18\t24\t30\t36\t42\t48\t54\t60\t\n",
      "7\t14\t21\t28\t35\t42\t49\t56\t63\t70\t\n",
      "8\t16\t24\t32\t40\t48\t56\t64\t72\t80\t\n",
      "9\t18\t27\t36\t45\t54\t63\t72\t81\t90\t\n",
      "10\t20\t30\t40\t50\t60\t70\t80\t90\t100\t\n"
     ]
    }
   ],
   "source": [
    "for i in range(1, 10+1):\n",
    "    for j in range(i, (i*10)+1):\n",
    "        if (j % i == 0):\n",
    "            print(j, end=\"\\t\")\n",
    "    print()"
   ]
  },
  {
   "cell_type": "markdown",
   "metadata": {},
   "source": [
    "# Question 4"
   ]
  },
  {
   "cell_type": "markdown",
   "metadata": {},
   "source": [
    "# Write a program to Print X Prime Numbers using While Loop starting from 0, and take the Input of X from the user"
   ]
  },
  {
   "cell_type": "code",
   "execution_count": 24,
   "metadata": {},
   "outputs": [
    {
     "name": "stdout",
     "output_type": "stream",
     "text": [
      "1\n",
      "2\n",
      "3\n",
      "4\n",
      "5\n",
      "6\n",
      "7\n",
      "8\n",
      "9\n",
      "10\n"
     ]
    }
   ],
   "source": [
    "i = 1\n",
    "while(i<=10):\n",
    "    print(i)\n",
    "    i += 1"
   ]
  },
  {
   "cell_type": "code",
   "execution_count": null,
   "metadata": {},
   "outputs": [],
   "source": []
  }
 ],
 "metadata": {
  "kernelspec": {
   "display_name": "Python 3",
   "language": "python",
   "name": "python3"
  },
  "language_info": {
   "codemirror_mode": {
    "name": "ipython",
    "version": 3
   },
   "file_extension": ".py",
   "mimetype": "text/x-python",
   "name": "python",
   "nbconvert_exporter": "python",
   "pygments_lexer": "ipython3",
   "version": "3.8.5"
  }
 },
 "nbformat": 4,
 "nbformat_minor": 4
}
